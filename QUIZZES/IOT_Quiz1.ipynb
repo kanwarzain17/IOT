{
  "nbformat": 4,
  "nbformat_minor": 0,
  "metadata": {
    "colab": {
      "provenance": []
    },
    "kernelspec": {
      "name": "python3",
      "display_name": "Python 3"
    },
    "language_info": {
      "name": "python"
    }
  },
  "cells": [
    {
      "cell_type": "markdown",
      "source": [
        "# IOT QUIZ"
      ],
      "metadata": {
        "id": "COrUwHEj0j2T"
      }
    },
    {
      "cell_type": "markdown",
      "source": [
        "Q1) Python program to print all odd numbers in a list."
      ],
      "metadata": {
        "id": "gStsv7PP0qsD"
      }
    },
    {
      "cell_type": "code",
      "source": [
        "List1=[1,2,3,4,5,6,7,8,9]\n",
        "for num in List1:\n",
        "  if num % 2 != 0:\n",
        "    print(num, end=\" \")"
      ],
      "metadata": {
        "colab": {
          "base_uri": "https://localhost:8080/"
        },
        "id": "7-J45oMj0qP1",
        "outputId": "a154bc6d-ebb4-4490-a8ab-17b16c58ecb2"
      },
      "execution_count": 4,
      "outputs": [
        {
          "output_type": "stream",
          "name": "stdout",
          "text": [
            "1 3 5 7 9 "
          ]
        }
      ]
    },
    {
      "cell_type": "markdown",
      "source": [
        "Q2) Python program to find the sum of list elements.\n"
      ],
      "metadata": {
        "id": "Az7gnFS11hjG"
      }
    },
    {
      "cell_type": "code",
      "source": [
        "total=0\n",
        "List1=[1,2,3,4,5,6,7,8,9]\n",
        "for num in range(0,len(List1)):\n",
        "  total= total+List1[num]\n",
        "print(\"Sum of all elements in given list: \", total)\n"
      ],
      "metadata": {
        "colab": {
          "base_uri": "https://localhost:8080/"
        },
        "id": "7xKNoje41q4T",
        "outputId": "ab31946d-21af-4512-82d1-429ed9fc7ebf"
      },
      "execution_count": 9,
      "outputs": [
        {
          "output_type": "stream",
          "name": "stdout",
          "text": [
            "Sum of all elements in given list:  45\n"
          ]
        }
      ]
    },
    {
      "cell_type": "markdown",
      "source": [
        "Q3) Python program to reverse a list in two ways.\n"
      ],
      "metadata": {
        "id": "-thndSIL3nQn"
      }
    },
    {
      "cell_type": "code",
      "source": [
        "List1=[1,2,3,4,5,6,7,8,9]\n",
        "List1.reverse()\n",
        "print(\" reverse \", List1)\n",
        "print(\"reverse\", List1[::-1])\n",
        " \n"
      ],
      "metadata": {
        "colab": {
          "base_uri": "https://localhost:8080/"
        },
        "id": "ZXYP-hUW3qzj",
        "outputId": "7150b32b-12eb-475e-f623-6b8b2c23b6e5"
      },
      "execution_count": 18,
      "outputs": [
        {
          "output_type": "stream",
          "name": "stdout",
          "text": [
            " reverse  [9, 8, 7, 6, 5, 4, 3, 2, 1]\n",
            "reverse [1, 2, 3, 4, 5, 6, 7, 8, 9]\n"
          ]
        }
      ]
    },
    {
      "cell_type": "markdown",
      "source": [
        "Q4) Python program to find the top two maximum\n",
        "numbers in a list.\n"
      ],
      "metadata": {
        "id": "9mHH4LSx5PKs"
      }
    },
    {
      "cell_type": "code",
      "source": [
        "List1=[1,2,3,4,5,6,7,8,9]\n",
        "top2_maximum = []\n",
        "temp = numbers.copy()\n",
        "for i in range(2):\n",
        "  maximum = max(temp)\n",
        "  top2_maximum.append(maximum)\n",
        "  temp.pop()\n",
        "print(\"top 2 maximum = \",top2_maximum)\n",
        "\n",
        "   "
      ],
      "metadata": {
        "colab": {
          "base_uri": "https://localhost:8080/"
        },
        "id": "M2O3HsEx5S3E",
        "outputId": "8686f050-27cc-4bf9-ec61-652355d337ea"
      },
      "execution_count": 66,
      "outputs": [
        {
          "output_type": "stream",
          "name": "stdout",
          "text": [
            "top 2 maximum =  [9, 8]\n"
          ]
        }
      ]
    },
    {
      "cell_type": "markdown",
      "source": [
        "Q5) Write a program in Python to find the second highest\n",
        "number in an integer list"
      ],
      "metadata": {
        "id": "ej6UPPVN_8cl"
      }
    },
    {
      "cell_type": "code",
      "source": [
        "temp = numbers.copy()\n",
        "temp.pop()\n",
        "print(\"second maximum number = \",max(temp))\n"
      ],
      "metadata": {
        "colab": {
          "base_uri": "https://localhost:8080/"
        },
        "id": "JTUkSk2l_9il",
        "outputId": "29a3b2e8-9e56-41f4-fb0d-95ae37fa9da5"
      },
      "execution_count": 40,
      "outputs": [
        {
          "output_type": "stream",
          "name": "stdout",
          "text": [
            "second maximum number =  8\n"
          ]
        }
      ]
    },
    {
      "cell_type": "markdown",
      "source": [
        "Q6) Python program to sort characters in descending\n",
        "order.\n"
      ],
      "metadata": {
        "id": "k3w8Su4QA0FV"
      }
    },
    {
      "cell_type": "code",
      "source": [
        "List1=[1,2,3,4,5,6,7,8,9]\n",
        "\n",
        "List1.sort()\n",
        "List1.reverse()\n",
        "\n",
        "print('List Items After Sorting in Descending Order')\n",
        "print(List1)"
      ],
      "metadata": {
        "colab": {
          "base_uri": "https://localhost:8080/"
        },
        "id": "bnJglLoQA0a1",
        "outputId": "cb86235a-3fe0-4241-ed7d-c51366c92754"
      },
      "execution_count": 48,
      "outputs": [
        {
          "output_type": "stream",
          "name": "stdout",
          "text": [
            "List Items After Sorting in Descending Order\n",
            "[9, 8, 7, 6, 5, 4, 3, 2, 1]\n"
          ]
        }
      ]
    },
    {
      "cell_type": "markdown",
      "source": [
        "Q7) Python program to remove repeated characters from a\n",
        "string."
      ],
      "metadata": {
        "id": "EK_24cygDTsD"
      }
    },
    {
      "cell_type": "code",
      "source": [
        "string=\"Kanwarzain\"\n",
        "p=\"\"\n",
        "for char in string:\n",
        "    if char not in p:\n",
        "        p=p+char\n",
        "print(p)\n",
        "k=list(\"Kanwarzain\")"
      ],
      "metadata": {
        "colab": {
          "base_uri": "https://localhost:8080/"
        },
        "id": "gDf72puXDUCD",
        "outputId": "da56071f-8031-4fe4-aeda-8654e0fc3af9"
      },
      "execution_count": 50,
      "outputs": [
        {
          "output_type": "stream",
          "name": "stdout",
          "text": [
            "Kanwrzi\n"
          ]
        }
      ]
    },
    {
      "cell_type": "markdown",
      "source": [
        "Q8) Python program to check if a given character is a\n",
        "vowel or consonant."
      ],
      "metadata": {
        "id": "6aoYfqZuDlIH"
      }
    },
    {
      "cell_type": "code",
      "source": [
        "def vowelOrConsonant(x):\n",
        " \n",
        "    if (x == 'a' or x == 'e' or\n",
        "        x == 'i' or x == 'o' or x == 'u'):\n",
        "        print(\"Vowel\")\n",
        "    else:\n",
        "        print(\"Consonant\")\n",
        " \n",
        "# Driver code\n",
        "vowelOrConsonant('c')\n",
        "vowelOrConsonant('e')"
      ],
      "metadata": {
        "colab": {
          "base_uri": "https://localhost:8080/"
        },
        "id": "XA04C_UaDlbg",
        "outputId": "fb10eb18-1aaf-4a1b-f586-dcdd5c605a13"
      },
      "execution_count": 64,
      "outputs": [
        {
          "output_type": "stream",
          "name": "stdout",
          "text": [
            "Consonant\n",
            "Vowel\n"
          ]
        }
      ]
    },
    {
      "cell_type": "markdown",
      "source": [
        "Q9) Python Program to calculate factorial.\n"
      ],
      "metadata": {
        "id": "LRw5SIDEECa1"
      }
    },
    {
      "cell_type": "code",
      "source": [
        "def fact(n):\n",
        "    if n < 0:\n",
        "        return 'Factorial does not exist'\n",
        "    elif n == 0:\n",
        "        return 1\n",
        "    else:\n",
        "        return n * fact(n-1)\n",
        " \n",
        "num = int(input())\n",
        "print(fact(num))"
      ],
      "metadata": {
        "colab": {
          "base_uri": "https://localhost:8080/"
        },
        "id": "iTNjhZDNECnl",
        "outputId": "34040b09-7f2a-4043-e1fb-71c4a36e5dbd"
      },
      "execution_count": 54,
      "outputs": [
        {
          "output_type": "stream",
          "name": "stdout",
          "text": [
            "5\n",
            "120\n"
          ]
        }
      ]
    },
    {
      "cell_type": "markdown",
      "source": [
        "Q10) Python Program to merge two lists."
      ],
      "metadata": {
        "id": "bAU6dlJPEjcF"
      }
    },
    {
      "cell_type": "code",
      "source": [
        "list1 = [1,2,3]\n",
        "list2 = [4,5,6]\n",
        "\n",
        "list3 = list1 + list2\n",
        "print(list3)\n"
      ],
      "metadata": {
        "colab": {
          "base_uri": "https://localhost:8080/"
        },
        "id": "NuQJ5_JHEjrN",
        "outputId": "6ecdb1ae-e9f1-4514-c071-1498a2f34f8c"
      },
      "execution_count": 62,
      "outputs": [
        {
          "output_type": "stream",
          "name": "stdout",
          "text": [
            "[1, 2, 3, 4, 5, 6]\n"
          ]
        }
      ]
    }
  ]
}